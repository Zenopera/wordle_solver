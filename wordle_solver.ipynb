{
 "cells": [
  {
   "cell_type": "code",
   "execution_count": 1,
   "id": "d6d1bf5d",
   "metadata": {},
   "outputs": [
    {
     "name": "stdout",
     "output_type": "stream",
     "text": [
      "👋 Welcome to the Wordle Assistant!\n",
      "Use 'G' for green, 'Y' for yellow, and 'B' for gray (e.g. BYGBG)\n",
      "✨ Suggested first guess:\n",
      "Attempt 1: Try 👉 CRANE\n"
     ]
    },
    {
     "name": "stdout",
     "output_type": "stream",
     "text": [
      "Attempt 2: Try 👉 SCOLD\n",
      "Attempt 3: Try 👉 HUTCH\n",
      "Attempt 4: Try 👉 QUICK\n",
      "Attempt 5: Try 👉 JUICY\n",
      "🎉 Congratulations, you found the word!\n"
     ]
    }
   ],
   "source": [
    "import random\n",
    "\n",
    "# Load 5-letter words from file\n",
    "def load_words(file_path=\"words.txt\"):\n",
    "    with open(file_path) as f:\n",
    "        return [line.strip().lower() for line in f if len(line.strip()) == 5]\n",
    "\n",
    "# Simulate Wordle-style feedback (Green/Yellow/Gray)\n",
    "def simulate_feedback(guess, solution):\n",
    "    feedback = [''] * 5\n",
    "    used = [False] * 5\n",
    "\n",
    "    # Green (correct letter and position)\n",
    "    for i in range(5):\n",
    "        if guess[i] == solution[i]:\n",
    "            feedback[i] = 'G'\n",
    "            used[i] = True\n",
    "\n",
    "    # Yellow (correct letter, wrong position) or Gray (not in word)\n",
    "    for i in range(5):\n",
    "        if feedback[i] == '':\n",
    "            if guess[i] in solution:\n",
    "                for j in range(5):\n",
    "                    if guess[i] == solution[j] and not used[j] and guess[j] != solution[j]:\n",
    "                        feedback[i] = 'Y'\n",
    "                        used[j] = True\n",
    "                        break\n",
    "            if feedback[i] == '':\n",
    "                feedback[i] = 'B'\n",
    "    return ''.join(feedback)\n",
    "\n",
    "# Filter the list of possible words based on feedback\n",
    "def filter_words(words, guess, feedback):\n",
    "    def is_compatible(word):\n",
    "        result = simulate_feedback(guess, word)\n",
    "        return result == feedback\n",
    "    return [w for w in words if is_compatible(w)]\n",
    "\n",
    "# Choose the next guess (currently random, can be improved)\n",
    "def choose_next_guess(possible_words):\n",
    "    return random.choice(possible_words)\n",
    "\n",
    "# Interactive assistant\n",
    "def wordle_assistant():\n",
    "    words = load_words(\"words.txt\")\n",
    "    possible_words = words.copy()\n",
    "    attempts = 1\n",
    "\n",
    "    print(\"👋 Welcome to the Wordle Assistant!\")\n",
    "    print(\"Use 'G' for green, 'Y' for yellow, and 'B' for gray (e.g. BYGBG)\")\n",
    "    print(\"✨ Suggested first guess:\")\n",
    "\n",
    "    # First \"smart\" guess\n",
    "    guess = \"crane\"\n",
    "    print(f\"Attempt {attempts}: Try 👉 {guess.upper()}\")\n",
    "\n",
    "    while attempts < 6:\n",
    "        feedback = input(f\"🧩 Feedback for {guess.upper()} (e.g. BYGBB): \").strip().upper()\n",
    "        if feedback == \"GGGGG\":\n",
    "            print(\"🎉 Congratulations, you found the word!\")\n",
    "            return\n",
    "\n",
    "        possible_words = filter_words(possible_words, guess, feedback)\n",
    "\n",
    "        if not possible_words:\n",
    "            print(\"😵 No words match the given feedback. Please double-check your input.\")\n",
    "            return\n",
    "\n",
    "        guess = choose_next_guess(possible_words)\n",
    "        attempts += 1\n",
    "        print(f\"Attempt {attempts}: Try 👉 {guess.upper()}\")\n",
    "\n",
    "    print(\"❌ Out of attempts. Try again tomorrow!\")\n",
    "\n",
    "# Run the assistant\n",
    "if __name__ == \"__main__\":\n",
    "    wordle_assistant()\n"
   ]
  }
 ],
 "metadata": {
  "kernelspec": {
   "display_name": "sct4amm",
   "language": "python",
   "name": "python3"
  },
  "language_info": {
   "codemirror_mode": {
    "name": "ipython",
    "version": 3
   },
   "file_extension": ".py",
   "mimetype": "text/x-python",
   "name": "python",
   "nbconvert_exporter": "python",
   "pygments_lexer": "ipython3",
   "version": "3.11.11"
  }
 },
 "nbformat": 4,
 "nbformat_minor": 5
}
